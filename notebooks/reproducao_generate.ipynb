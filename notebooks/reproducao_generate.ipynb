{
 "cells": [
  {
   "cell_type": "markdown",
   "metadata": {},
   "source": [
    "# setup"
   ]
  },
  {
   "cell_type": "code",
   "execution_count": 1,
   "metadata": {},
   "outputs": [],
   "source": [
    "import os\n",
    "\n",
    "if os.getcwd().split('/')[-1] == 'notebooks':\n",
    "    os.chdir('..')"
   ]
  },
  {
   "cell_type": "code",
   "execution_count": 2,
   "metadata": {},
   "outputs": [],
   "source": [
    "import pandas as pd\n",
    "import wfdb\n",
    "import numpy as np\n",
    "import h5py\n",
    "\n",
    "from ecgprep import read_ecg\n",
    "from tqdm import tqdm"
   ]
  },
  {
   "cell_type": "code",
   "execution_count": 3,
   "metadata": {},
   "outputs": [],
   "source": [
    "ds_folder = 'lobachevsky-university-electrocardiography-database-1.0.1'\n",
    "records = pd.read_csv(os.path.join(ds_folder, 'RECORDS'), header = None)\n",
    "leads = ['avf', 'avl', 'avr', 'i', 'ii', 'iii', 'v1', 'v2', 'v3', 'v4', 'v5', 'v6']\n",
    "symbols = ['N', 'p', 't']\n",
    "\n",
    "out_folder = 'output'\n",
    "if not os.path.exists(out_folder):\n",
    "    os.makedirs(out_folder)\n"
   ]
  },
  {
   "cell_type": "markdown",
   "metadata": {},
   "source": [
    "# generate"
   ]
  },
  {
   "cell_type": "code",
   "execution_count": 4,
   "metadata": {},
   "outputs": [],
   "source": [
    "n_files = len(records)\n",
    "n_samples = 5000\n",
    "n_leads = len(leads)\n",
    "n_symbols = len(symbols)\n",
    "\n",
    "h5f = h5py.File(os.path.join(out_folder, 'ludb.h5'), 'w')\n",
    "\n",
    "x = h5f.create_dataset('tracings', (n_files, n_leads, n_samples), dtype='f8')\n",
    "y = h5f.create_dataset('annotations', (n_files, n_leads, n_symbols, n_samples), dtype='f8')\n",
    "id = h5f.create_dataset('exam_id', (n_files,), dtype='i4')"
   ]
  },
  {
   "cell_type": "code",
   "execution_count": 5,
   "metadata": {},
   "outputs": [
    {
     "name": "stderr",
     "output_type": "stream",
     "text": [
      "2it [00:00, 18.23it/s]"
     ]
    },
    {
     "name": "stderr",
     "output_type": "stream",
     "text": [
      "98it [00:03, 26.57it/s]"
     ]
    },
    {
     "name": "stdout",
     "output_type": "stream",
     "text": [
      "file lobachevsky-university-electrocardiography-database-1.0.1/data/95 not in closed wave\n"
     ]
    },
    {
     "name": "stderr",
     "output_type": "stream",
     "text": [
      "107it [00:04, 20.53it/s]"
     ]
    },
    {
     "name": "stdout",
     "output_type": "stream",
     "text": [
      "file lobachevsky-university-electrocardiography-database-1.0.1/data/104 not in closed wave\n"
     ]
    },
    {
     "name": "stderr",
     "output_type": "stream",
     "text": [
      "116it [00:04, 23.67it/s]"
     ]
    },
    {
     "name": "stdout",
     "output_type": "stream",
     "text": [
      "file lobachevsky-university-electrocardiography-database-1.0.1/data/111 not in closed wave\n"
     ]
    },
    {
     "name": "stderr",
     "output_type": "stream",
     "text": [
      "200it [00:07, 25.45it/s]\n"
     ]
    }
   ],
   "source": [
    "for ii, row in tqdm(records.iterrows()):\n",
    "    # read signal\n",
    "    file_path = os.path.join(ds_folder, row[0])\n",
    "    ecg, sample_rate, leads = read_ecg.read_ecg(file_path)\n",
    "\n",
    "    # read annotations and prepare y\n",
    "    label = np.zeros(shape = (len(leads), len(symbols), ecg.shape[1]))\n",
    "    closed_flag = False\n",
    "    for l, lead in enumerate(leads):\n",
    "        ann = wfdb.rdann(file_path, extension = 'avf')\n",
    "        assert len(ann.sample) == len(ann.symbol)\n",
    "\n",
    "        for idx, symbol in enumerate(ann.symbol):\n",
    "            if symbol not in symbols: # check if symbol is a letter\n",
    "                continue\n",
    "            \n",
    "            # assert ann.symbol[idx - 1] == '(' and ann.symbol[idx + 1] == ')'\n",
    "            if ann.symbol[idx - 1] != '(' or ann.symbol[idx + 1] != ')':\n",
    "                closed_flag = True\n",
    "            peak = ann.sample[idx] # check if is a closed wave and get onset and end of wave\n",
    "            if ann.symbol[idx - 1] == '(':\n",
    "                begin = ann.sample[idx - 1]\n",
    "            else:\n",
    "                begin = ann.sample[idx]\n",
    "            if ann.symbol[idx + 1] == ')':\n",
    "                end = ann.sample[idx + 1]\n",
    "            else:\n",
    "                end = ann.sample[idx]\n",
    "            \n",
    "            label[l, symbols.index(symbol), begin:end] = 1 # attribute 1 for closed wave in channel of corresponding symbol\n",
    "    \n",
    "    # write\n",
    "    x[ii, :, :] = ecg\n",
    "    y[ii, :, :, :] = label\n",
    "    id[ii] = int(file_path.split('/')[-1])\n",
    "    # warning\n",
    "    if closed_flag:\n",
    "        print('file {} not in closed wave'.format(file_path))"
   ]
  },
  {
   "cell_type": "code",
   "execution_count": 6,
   "metadata": {},
   "outputs": [],
   "source": [
    "h5f.close()"
   ]
  }
 ],
 "metadata": {
  "kernelspec": {
   "display_name": "clip",
   "language": "python",
   "name": "python3"
  },
  "language_info": {
   "codemirror_mode": {
    "name": "ipython",
    "version": 3
   },
   "file_extension": ".py",
   "mimetype": "text/x-python",
   "name": "python",
   "nbconvert_exporter": "python",
   "pygments_lexer": "ipython3",
   "version": "3.8.8"
  }
 },
 "nbformat": 4,
 "nbformat_minor": 2
}
